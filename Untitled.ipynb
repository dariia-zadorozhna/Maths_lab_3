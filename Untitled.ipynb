{
 "cells": [
  {
   "cell_type": "code",
   "execution_count": null,
   "id": "7ca8b0c2-be31-4d8a-bcff-73d6f0156b3a",
   "metadata": {},
   "outputs": [],
   "source": [
    "import numpy as np\n",
    "matrix_A = np.array([[1, 2], [3, 4], [5, 6]])\n",
    "def svd_realization(matrix_A):\n",
    "    A"
   ]
  }
 ],
 "metadata": {
  "kernelspec": {
   "display_name": "Python 3 (ipykernel)",
   "language": "python",
   "name": "python3"
  },
  "language_info": {
   "codemirror_mode": {
    "name": "ipython",
    "version": 3
   },
   "file_extension": ".py",
   "mimetype": "text/x-python",
   "name": "python",
   "nbconvert_exporter": "python",
   "pygments_lexer": "ipython3",
   "version": "3.9.1"
  }
 },
 "nbformat": 4,
 "nbformat_minor": 5
}
